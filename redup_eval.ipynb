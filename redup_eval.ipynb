{
 "cells": [
  {
   "cell_type": "raw",
   "metadata": {},
   "source": [
    "for i=0 to length(A)\n",
    "  F(i,0) ← d*i\n",
    "for j=0 to length(B)\n",
    "  F(0,j) ← d*j\n",
    "for i=1 to length(A)\n",
    "  for j=1 to length(B)\n",
    "  {\n",
    "    Match ← F(i-1,j-1) + S(Ai, Bj)\n",
    "    Delete ← F(i-1, j) + d\n",
    "    Insert ← F(i, j-1) + d\n",
    "    F(i,j) ← max(Match, Insert, Delete)\n",
    "  }"
   ]
  },
  {
   "cell_type": "code",
   "execution_count": 38,
   "metadata": {
    "collapsed": true
   },
   "outputs": [],
   "source": [
    "import seaborn as sns\n",
    "%matplotlib inline\n",
    "import pylab as pl\n",
    "import glob"
   ]
  },
  {
   "cell_type": "code",
   "execution_count": 39,
   "metadata": {
    "collapsed": true
   },
   "outputs": [],
   "source": [
    "import numpy as np"
   ]
  },
  {
   "cell_type": "code",
   "execution_count": 40,
   "metadata": {
    "collapsed": true
   },
   "outputs": [],
   "source": [
    "import pandas as pd"
   ]
  },
  {
   "cell_type": "code",
   "execution_count": 41,
   "metadata": {
    "collapsed": true
   },
   "outputs": [],
   "source": [
    "df = pd.read_csv('./data/wspm.txt.tab', sep='\\t', index_col=0)"
   ]
  },
  {
   "cell_type": "code",
   "execution_count": 42,
   "metadata": {
    "collapsed": true
   },
   "outputs": [],
   "source": [
    "df=df.drop(df.columns[-1], axis=1)"
   ]
  },
  {
   "cell_type": "code",
   "execution_count": 43,
   "metadata": {
    "collapsed": true
   },
   "outputs": [],
   "source": [
    "vals=df.values.flatten()\n",
    "gap=np.mean(vals[vals<0])"
   ]
  },
  {
   "cell_type": "code",
   "execution_count": 44,
   "metadata": {
    "collapsed": true
   },
   "outputs": [],
   "source": [
    "def nw(s, t, M, gap_penalty=-2.0):\n",
    "    s = ['']+s\n",
    "    t =['']+t\n",
    "    scores=np.zeros((len(s),len(t)))\n",
    "    for i in np.arange(0, len(s)):\n",
    "        scores[i,0]=gap_penalty*i\n",
    "    for j in np.arange(0, len(t)):\n",
    "        scores[0,j]=gap_penalty*j\n",
    "    for i in np.arange(1, len(s)):\n",
    "        for j in np.arange(1, len(t)):\n",
    "            mcost = scores[i-1, j-1]+ M[s[i]][t[j]]\n",
    "            dcost = scores[i-1, j]+ gap_penalty\n",
    "            icost = scores[i, j-1]+gap_penalty\n",
    "            scores[i,j]=np.max([mcost, dcost, icost])\n",
    "    return scores[-1,-1]"
   ]
  },
  {
   "cell_type": "code",
   "execution_count": 45,
   "metadata": {
    "collapsed": true
   },
   "outputs": [],
   "source": [
    "def get_eval_scores(list_true, list_pred, df, gap, tag_name):\n",
    "    orecs=[]\n",
    "    for lt, lp in zip(list_true, list_pred):\n",
    "        upper_bound = nw(lt, lt, df, gap)\n",
    "        mir = nw(lt, lp, df, gap)/float(upper_bound)\n",
    "        mss = nw(lt, lp, df, gap)/np.mean([len(list_pred), len(list_pred)])\n",
    "        orecs.append((tag_name, mir, mss))\n",
    "    return pd.DataFrame().from_records(orecs, columns=['model', 'MIR','MSS'])"
   ]
  },
  {
   "cell_type": "code",
   "execution_count": 46,
   "metadata": {
    "collapsed": true
   },
   "outputs": [],
   "source": [
    "orecs=get_eval_scores([['CH','IH','K'],['CH','IH','K']], [['CH','AH','K'], ['CH','IH','K']], df, gap,'testdummy')"
   ]
  },
  {
   "cell_type": "code",
   "execution_count": 47,
   "metadata": {},
   "outputs": [
    {
     "data": {
      "text/html": [
       "<div>\n",
       "<style>\n",
       "    .dataframe thead tr:only-child th {\n",
       "        text-align: right;\n",
       "    }\n",
       "\n",
       "    .dataframe thead th {\n",
       "        text-align: left;\n",
       "    }\n",
       "\n",
       "    .dataframe tbody tr th {\n",
       "        vertical-align: top;\n",
       "    }\n",
       "</style>\n",
       "<table border=\"1\" class=\"dataframe\">\n",
       "  <thead>\n",
       "    <tr style=\"text-align: right;\">\n",
       "      <th></th>\n",
       "      <th>model</th>\n",
       "      <th>MIR</th>\n",
       "      <th>MSS</th>\n",
       "    </tr>\n",
       "  </thead>\n",
       "  <tbody>\n",
       "    <tr>\n",
       "      <th>0</th>\n",
       "      <td>testdummy</td>\n",
       "      <td>0.919944</td>\n",
       "      <td>4.2690</td>\n",
       "    </tr>\n",
       "    <tr>\n",
       "      <th>1</th>\n",
       "      <td>testdummy</td>\n",
       "      <td>1.000000</td>\n",
       "      <td>4.6405</td>\n",
       "    </tr>\n",
       "  </tbody>\n",
       "</table>\n",
       "</div>"
      ],
      "text/plain": [
       "       model       MIR     MSS\n",
       "0  testdummy  0.919944  4.2690\n",
       "1  testdummy  1.000000  4.6405"
      ]
     },
     "execution_count": 47,
     "metadata": {},
     "output_type": "execute_result"
    }
   ],
   "source": [
    "orecs"
   ]
  },
  {
   "cell_type": "code",
   "execution_count": 48,
   "metadata": {
    "collapsed": true
   },
   "outputs": [],
   "source": [
    "def evaluate_model(gold_file, prediction_file):\n",
    "    g = open(gold_file, 'r')\n",
    "    f = open(prediction_file, 'r')\n",
    "    gold_phonemes=[]\n",
    "    pred_phonemes=[]\n",
    "    for i, l in enumerate(g):\n",
    "        if i < 3:\n",
    "            continue\n",
    "        redup_phonemes=l.strip().split('\\t')[1].split(' ')\n",
    "        gold_phonemes.append(redup_phonemes)\n",
    "    for i, l in enumerate(f):\n",
    "        if i < 3:\n",
    "            continue\n",
    "        redup_phonemes=l.strip().split('\\t')[1].split(' ')\n",
    "        pred_phonemes.append(redup_phonemes)\n",
    "    assert(len(gold_phonemes)==len(pred_phonemes))\n",
    "    return gold_phonemes, pred_phonemes"
   ]
  },
  {
   "cell_type": "code",
   "execution_count": 56,
   "metadata": {
    "collapsed": true
   },
   "outputs": [],
   "source": [
    "all_results=[]"
   ]
  },
  {
   "cell_type": "code",
   "execution_count": 57,
   "metadata": {},
   "outputs": [],
   "source": [
    "for filename in glob.glob('./data/redup_output/gold_test/redups_prob_random_model_*.phonemes'):\n",
    "    gold_phonemes, pred_phonemes=evaluate_model('./data/redups_test_prob_model.phonemes', filename)\n",
    "    orecs_random=get_eval_scores(gold_phonemes, pred_phonemes, df, gap,'random')\n",
    "    all_results.append(orecs_random)\n",
    "\n",
    "for filename in glob.glob('./data/redup_output/gold_test/redups_prob_random_char_model_*.phonemes'):\n",
    "    gold_phonemes, pred_phonemes=evaluate_model('./data/redups_test_prob_model.phonemes', filename)\n",
    "    orecs_random_char=get_eval_scores(gold_phonemes, pred_phonemes, df, gap,'randomchar')\n",
    "    all_results.append(orecs_random_char)\n",
    "\n",
    "for filename in glob.glob('./data/redup_output/gold_test/redups_prob_nodups_model_*.phonemes'):\n",
    "    gold_phonemes, pred_phonemes=evaluate_model('./data/redups_test_prob_model.phonemes', filename)\n",
    "    orecs_nodups=get_eval_scores(gold_phonemes, pred_phonemes, df, gap,'no_dup')\n",
    "    all_results.append(orecs_nodups)\n",
    "\n",
    "for filename in glob.glob('./data/redup_output/gold_test/redups_prob_model_*.phonemes'):\n",
    "    gold_phonemes, pred_phonemes=evaluate_model('./data/redups_test_prob_model.phonemes', filename)\n",
    "    orecs_prob=get_eval_scores(gold_phonemes, pred_phonemes, df, gap,'prob')\n",
    "    all_results.append(orecs_prob)"
   ]
  },
  {
   "cell_type": "code",
   "execution_count": 58,
   "metadata": {},
   "outputs": [],
   "source": [
    "odf=pd.concat(all_results)"
   ]
  },
  {
   "cell_type": "code",
   "execution_count": 59,
   "metadata": {},
   "outputs": [
    {
     "data": {
      "image/png": "[encoded data removed]",
      "text/plain": [
       "<matplotlib.figure.Figure at 0x7f7e44e1e690>"
      ]
     },
     "metadata": {},
     "output_type": "display_data"
    }
   ],
   "source": [
    "g=sns.barplot(odf.model, odf.MIR, order=['randomchar','random','no_dup','prob'])\n",
    "g.set_ylim((0.7,0.87))\n",
    "g.set_xticklabels(['Let','Let(Cond)','Our(NoDup)', 'Our'], fontsize=12, rotation=0)\n",
    "g.set_xlabel('', fontsize=14)\n",
    "g.set_ylabel(g.get_ylabel(), fontsize=14)\n",
    "pl.savefig('./figs/redup_model_generator_eval_gold_test_mir.pdf',bbox_inches='tight')"
   ]
  }
 ],
 "metadata": {
  "kernelspec": {
   "display_name": "Python 2",
   "language": "python",
   "name": "python2"
  },
  "language_info": {
   "codemirror_mode": {
    "name": "ipython",
    "version": 2
   },
   "file_extension": ".py",
   "mimetype": "text/x-python",
   "name": "python",
   "nbconvert_exporter": "python",
   "pygments_lexer": "ipython2",
   "version": "2.7.12"
  }
 },
 "nbformat": 4,
 "nbformat_minor": 2
}
