{
 "cells": [
  {
   "cell_type": "code",
   "execution_count": 71,
   "metadata": {
    "collapsed": true
   },
   "outputs": [],
   "source": [
    "import pandas as pd\n",
    "%matplotlib inline\n",
    "import pylab as pl"
   ]
  },
  {
   "cell_type": "code",
   "execution_count": 72,
   "metadata": {
    "collapsed": true
   },
   "outputs": [],
   "source": [
    "import numpy as np\n",
    "from io import open\n",
    "import seaborn as sns\n",
    "import Levenshtein\n",
    "from collections import Counter"
   ]
  },
  {
   "cell_type": "code",
   "execution_count": 73,
   "metadata": {
    "collapsed": true
   },
   "outputs": [],
   "source": [
    "orecs=[]\n",
    "f = open('./data/clippings_analysis.txt')\n",
    "for l in f:\n",
    "    tokens=l.strip().split(' ')\n",
    "    orecs.append((tokens[0], u' '.join(tokens[1:]).strip()))\n",
    "df=pd.DataFrame().from_records(orecs, columns=['clipping','full'])\n",
    "df.to_csv('./data/clippings_analysis.csv', sep='\\t', encoding='utf-8')"
   ]
  },
  {
   "cell_type": "code",
   "execution_count": 74,
   "metadata": {
    "collapsed": true
   },
   "outputs": [],
   "source": [
    "df_clipping_only=pd.read_csv('./data/only_clippings_gold.phonemes', sep='\\t', skiprows=3, header=None, names=['word','phonemes'])"
   ]
  },
  {
   "cell_type": "code",
   "execution_count": 75,
   "metadata": {
    "collapsed": true
   },
   "outputs": [],
   "source": [
    "def get_num_syllables(v):\n",
    "    vowels=set(['AA','AE','AH','AO','AW','AY','EH','ER','EY','IH','IY','OW','OY','UH','UW'])\n",
    "    phonemes=v.split(' ')\n",
    "    cv=0\n",
    "    for p in phonemes:\n",
    "        if p in vowels:\n",
    "            cv=cv+1\n",
    "    return cv"
   ]
  },
  {
   "cell_type": "code",
   "execution_count": 76,
   "metadata": {
    "collapsed": true
   },
   "outputs": [],
   "source": [
    "def clip_helper(v, num_syllables=2, ctype='BACK'):\n",
    "    vowels=set(['AA','AE','AH','AO','AW','AY','EH','ER','EY','IH','IY','OW','OY','UH','UW'])\n",
    "    phonemes=v.split(' ')        \n",
    "    cv=0\n",
    "    output=[]\n",
    "    if ctype=='BACK':\n",
    "        for p in phonemes:\n",
    "            if p in vowels:\n",
    "                cv=cv+1\n",
    "                if cv > num_syllables:\n",
    "                    break\n",
    "            output.append(p)\n",
    "    elif ctype == 'FORE':\n",
    "        phonemes_v=' '.join(phonemes[::-1])\n",
    "        cp = clip_helper(phonemes_v, num_syllables, ctype='BACK')\n",
    "        output = cp.split(' ')[::-1]\n",
    "    return ' '.join(output)"
   ]
  },
  {
   "cell_type": "code",
   "execution_count": 77,
   "metadata": {
    "collapsed": true
   },
   "outputs": [],
   "source": [
    "def clip(v, num_syllables=2):\n",
    "    vowels=set(['AA','AE','AH','AO','AW','AY','EH','ER','EY','IH','IY','OW','OY','UH','UW'])\n",
    "    phonemes=v.split(' ')\n",
    "    ctype=global_pmf.sample()\n",
    "    if '@' in v: # compound clippins\n",
    "        part1=v.split('@')[0]\n",
    "        part2=v.split('@')[1]\n",
    "        part1_phonemes = part1.strip().split(' ')\n",
    "        part2_phonemes = part2.strip().split(' ')\n",
    "        part1_clip=clip_helper(' '.join(part1_phonemes), num_syllables=1)\n",
    "        part2_clip=clip_helper(' '.join(part2_phonemes), num_syllables=1)\n",
    "        print v, part1_clip, part1_phonemes, part2_clip, part2_phonemes\n",
    "        assert '@' not in part1_clip\n",
    "        assert '@' not in part2_clip\n",
    "\n",
    "        return part1_clip + ' ' + part2_clip\n",
    "    else:\n",
    "        return clip_helper(v, num_syllables, ctype=ctype)\n"
   ]
  },
  {
   "cell_type": "code",
   "execution_count": 78,
   "metadata": {
    "collapsed": true
   },
   "outputs": [],
   "source": [
    "def random_clip(v, num_syllables=2):\n",
    "    vowels=set(['AA','AE','AH','AO','AW','AY','EH','ER','EY','IH','IY','OW','OY','UH','UW'])\n",
    "    v=v.replace('@',' ')\n",
    "    phonemes=v.split(' ')\n",
    "    keep_length=np.random.randint(1, len(v)+1)\n",
    "    return ' '.join(phonemes[:keep_length])"
   ]
  },
  {
   "cell_type": "code",
   "execution_count": 79,
   "metadata": {
    "collapsed": true
   },
   "outputs": [],
   "source": [
    "df_clipping_only[\"num\"]=[get_num_syllables(ps) for ps in df_clipping_only.phonemes.values] "
   ]
  },
  {
   "cell_type": "code",
   "execution_count": 80,
   "metadata": {
    "collapsed": true
   },
   "outputs": [],
   "source": [
    "df_components_only=pd.read_csv('./data/only_clippings_full_components_gold.phonemes', sep='\\t', skiprows=3, header=None, names=['word','phonemes'])"
   ]
  },
  {
   "cell_type": "code",
   "execution_count": 81,
   "metadata": {
    "collapsed": true
   },
   "outputs": [],
   "source": [
    "df_components_only[\"num\"]=[get_num_syllables(ps) for ps in df_components_only.phonemes.values] "
   ]
  },
  {
   "cell_type": "code",
   "execution_count": 82,
   "metadata": {},
   "outputs": [
    {
     "data": {
      "text/plain": [
       "count    576.000000\n",
       "mean       3.302083\n",
       "std        1.417553\n",
       "min        1.000000\n",
       "25%        2.000000\n",
       "50%        3.000000\n",
       "75%        4.000000\n",
       "max       14.000000\n",
       "Name: num, dtype: float64"
      ]
     },
     "execution_count": 82,
     "metadata": {},
     "output_type": "execute_result"
    }
   ],
   "source": [
    "df_components_only.num.describe()"
   ]
  },
  {
   "cell_type": "code",
   "execution_count": 83,
   "metadata": {},
   "outputs": [
    {
     "data": {
      "text/plain": [
       "count    576.000000\n",
       "mean       1.557292\n",
       "std        0.601606\n",
       "min        1.000000\n",
       "25%        1.000000\n",
       "50%        2.000000\n",
       "75%        2.000000\n",
       "max        4.000000\n",
       "Name: num, dtype: float64"
      ]
     },
     "execution_count": 83,
     "metadata": {},
     "output_type": "execute_result"
    }
   ],
   "source": [
    "df_clipping_only.num.describe()"
   ]
  },
  {
   "cell_type": "code",
   "execution_count": 84,
   "metadata": {
    "collapsed": true
   },
   "outputs": [],
   "source": [
    "class Pmf(Counter):\n",
    "    \"\"\"A Counter with probabilities.\"\"\"\n",
    "\n",
    "    def normalize(self):\n",
    "        \"\"\"Normalizes the PMF so the probabilities add to 1.\"\"\"\n",
    "        total = float(sum(self.values()))\n",
    "        for key in self:\n",
    "            self[key] /= total\n",
    "\n",
    "    def __add__(self, other):\n",
    "        \"\"\"Adds two distributions.\n",
    "\n",
    "        The result is the distribution of sums of values from the\n",
    "        two distributions.\n",
    "\n",
    "        other: Pmf\n",
    "\n",
    "        returns: new Pmf\n",
    "        \"\"\"\n",
    "        pmf = Pmf()\n",
    "        for key1, prob1 in self.items():\n",
    "            for key2, prob2 in other.items():\n",
    "                pmf[key1 + key2] += prob1 * prob2\n",
    "        return pmf\n",
    "\n",
    "    def __hash__(self):\n",
    "        \"\"\"Returns an integer hash value.\"\"\"\n",
    "        return id(self)\n",
    "    \n",
    "    def __eq__(self, other):\n",
    "        return self is other\n",
    "\n",
    "    def render(self):\n",
    "        \"\"\"Returns values and their probabilities, suitable for plotting.\"\"\"\n",
    "        return zip(*sorted(self.items()))\n",
    "    \n",
    "    def sample(self):\n",
    "        keys, vals= zip(*self.items())\n",
    "        return np.random.choice(keys, p=vals)"
   ]
  },
  {
   "cell_type": "code",
   "execution_count": 85,
   "metadata": {
    "collapsed": true
   },
   "outputs": [],
   "source": [
    "from collections import Counter\n",
    "syllable_counter_clippings=Counter(df_clipping_only.num.values)\n",
    "syllable_counter_clippings_pmf = Pmf(syllable_counter_clippings)"
   ]
  },
  {
   "cell_type": "code",
   "execution_count": 86,
   "metadata": {
    "collapsed": true
   },
   "outputs": [],
   "source": [
    "syllable_counter_clippings_pmf.normalize()"
   ]
  },
  {
   "cell_type": "code",
   "execution_count": 87,
   "metadata": {
    "collapsed": true
   },
   "outputs": [],
   "source": [
    "def plot_counter_err(c, xlabel, ylabel, topk=10, ymax=0.6, color_dict=None, use_constant_color=False):\n",
    "    import statsmodels.api as sm\n",
    "    z=c.most_common()\n",
    "    print \"Sum\", sum(zip(*z)[1])\n",
    "    sfixes=list(zip(*z)[0])\n",
    "    svals=list(zip(*z)[1])\n",
    "    evals = sm.stats.multinomial_proportions_confint(np.array(svals))\n",
    "    print \"Evals\", evals.shape\n",
    "    nc=Pmf(c)\n",
    "    nc.normalize()\n",
    "    nz=nc.most_common()\n",
    "    nsvals = list(zip(*nz)[1])\n",
    "    lerrs=np.array(nsvals)-evals[:,0] #CI is not necessarily symmetrical\n",
    "    herrs=evals[:,1]-np.array(nsvals)\n",
    "    errs=np.array([lerrs,herrs])\n",
    "    cmap=sns.light_palette(\"purple\", reverse=True, n_colors=25)\n",
    "    if use_constant_color == False:\n",
    "        g=sns.barplot(sfixes[:topk], list(nsvals[:topk]),  capsize=0.2,palette=cmap,**{'yerr':errs[:,:topk]})\n",
    "    else:\n",
    "        g=sns.barplot(sfixes[:topk], list(nsvals[:topk]), palette=color_dict,capsize=0.2,**{'yerr':errs[:,:topk]})\n",
    "    g.set_xticklabels(g.get_xticklabels(), rotation=0, fontsize=14)\n",
    "    g.set_xlabel(xlabel, fontsize=14)\n",
    "    g.set_ylabel(ylabel, fontsize=14)\n",
    "    g.set_ylim((0,ymax))\n",
    "    return g"
   ]
  },
  {
   "cell_type": "code",
   "execution_count": 88,
   "metadata": {},
   "outputs": [
    {
     "name": "stdout",
     "output_type": "stream",
     "text": [
      "Sum 576\n",
      "Evals (4, 2)\n"
     ]
    },
    {
     "data": {
      "image/png": "[encoded data removed]",
      "text/plain": [
       "<matplotlib.figure.Figure at 0x7fab61041510>"
      ]
     },
     "metadata": {},
     "output_type": "display_data"
    }
   ],
   "source": [
    "plot_counter_err(syllable_counter_clippings, '#(Syllables)', 'Probability')\n",
    "pl.savefig('./figs/clippings_num_syllables.pdf', bbox_inches='tight')"
   ]
  },
  {
   "cell_type": "code",
   "execution_count": null,
   "metadata": {
    "collapsed": true
   },
   "outputs": [],
   "source": []
  }
 ],
 "metadata": {
  "kernelspec": {
   "display_name": "Python 2",
   "language": "python",
   "name": "python2"
  },
  "language_info": {
   "codemirror_mode": {
    "name": "ipython",
    "version": 2
   },
   "file_extension": ".py",
   "mimetype": "text/x-python",
   "name": "python",
   "nbconvert_exporter": "python",
   "pygments_lexer": "ipython2",
   "version": "2.7.12"
  }
 },
 "nbformat": 4,
 "nbformat_minor": 2
}
