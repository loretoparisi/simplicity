{
 "cells": [
  {
   "cell_type": "code",
   "execution_count": 27,
   "metadata": {
    "collapsed": true
   },
   "outputs": [],
   "source": [
    "import pandas as pd"
   ]
  },
  {
   "cell_type": "code",
   "execution_count": 28,
   "metadata": {
    "collapsed": true
   },
   "outputs": [],
   "source": [
    "import numpy as np\n",
    "from io import open\n",
    "%matplotlib inline\n",
    "import Levenshtein\n",
    "import seaborn as sns\n",
    "import pylab as pl\n",
    "\n",
    "from sklearn.linear_model import BayesianRidge\n",
    "from sklearn.metrics import mean_squared_error\n"
   ]
  },
  {
   "cell_type": "markdown",
   "metadata": {},
   "source": [
    "## Generic Helper Functions "
   ]
  },
  {
   "cell_type": "code",
   "execution_count": 29,
   "metadata": {
    "collapsed": true
   },
   "outputs": [],
   "source": [
    "def get_num_syllables(v):\n",
    "    vowels=set(['AA','AE','AH','AO','AW','AY','EH','ER','EY','IH','IY','OW','OY','UH','UW'])\n",
    "    phonemes=v.split(' ')\n",
    "    cv=0\n",
    "    for p in phonemes:\n",
    "        if p in vowels:\n",
    "            cv=cv+1\n",
    "    return cv"
   ]
  },
  {
   "cell_type": "code",
   "execution_count": 30,
   "metadata": {
    "collapsed": true
   },
   "outputs": [],
   "source": [
    "def clip_helper(v, num_syllables=2, ctype='BACK'):\n",
    "    vowels=set(['AA','AE','AH','AO','AW','AY','EH','ER','EY','IH','IY','OW','OY','UH','UW'])\n",
    "    phonemes=v.split(' ')        \n",
    "    cv=0\n",
    "    output=[]\n",
    "    if ctype=='BACK':\n",
    "        for p in phonemes:\n",
    "            if p in vowels:\n",
    "                cv=cv+1\n",
    "                if cv > num_syllables:\n",
    "                    break\n",
    "            output.append(p)\n",
    "    elif ctype == 'FORE':\n",
    "        phonemes_v=' '.join(phonemes[::-1])\n",
    "        cp = clip_helper(phonemes_v, num_syllables, ctype='BACK')\n",
    "        output = cp.split(' ')[::-1]\n",
    "    return ' '.join(output)"
   ]
  },
  {
   "cell_type": "code",
   "execution_count": 49,
   "metadata": {
    "collapsed": true
   },
   "outputs": [],
   "source": [
    "def clip(v, num_syllables=2):\n",
    "    vowels=set(['AA','AE','AH','AO','AW','AY','EH','ER','EY','IH','IY','OW','OY','UH','UW'])\n",
    "    phonemes=v.split(' ')\n",
    "    ctype=global_pmf.sample()\n",
    "    if '@' in v: # compound clippins\n",
    "        part1=v.split('@')[0]\n",
    "        part2=v.split('@')[1]\n",
    "        part1_phonemes = part1.strip().split(' ')\n",
    "        part2_phonemes = part2.strip().split(' ')\n",
    "        part1_clip=clip_helper(' '.join(part1_phonemes), num_syllables=1)\n",
    "        part2_clip=clip_helper(' '.join(part2_phonemes), num_syllables=1)\n",
    "        assert '@' not in part1_clip\n",
    "        assert '@' not in part2_clip\n",
    "        return part1_clip + ' ' + part2_clip\n",
    "    else:\n",
    "        return clip_helper(v, num_syllables, ctype=ctype)\n"
   ]
  },
  {
   "cell_type": "code",
   "execution_count": 32,
   "metadata": {
    "collapsed": true
   },
   "outputs": [],
   "source": [
    "def pred_num_syllables_clipping(v):\n",
    "    return int(ml.predict(v)[0])"
   ]
  },
  {
   "cell_type": "code",
   "execution_count": 33,
   "metadata": {
    "collapsed": true
   },
   "outputs": [],
   "source": [
    "def random_clip(v, num_syllables=2):\n",
    "    vowels=set(['AA','AE','AH','AO','AW','AY','EH','ER','EY','IH','IY','OW','OY','UH','UW'])\n",
    "    v=v.replace('@',' ')\n",
    "    phonemes=v.split(' ')\n",
    "    keep_length=np.random.randint(1, len(v)+1)\n",
    "    return ' '.join(phonemes[:keep_length])"
   ]
  },
  {
   "cell_type": "code",
   "execution_count": 34,
   "metadata": {
    "collapsed": true
   },
   "outputs": [],
   "source": [
    "from collections import Counter\n",
    "class Pmf(Counter):\n",
    "    \"\"\"A Counter with probabilities.\"\"\"\n",
    "\n",
    "    def normalize(self):\n",
    "        \"\"\"Normalizes the PMF so the probabilities add to 1.\"\"\"\n",
    "        total = float(sum(self.values()))\n",
    "        for key in self:\n",
    "            self[key] /= total\n",
    "\n",
    "    def __add__(self, other):\n",
    "        \"\"\"Adds two distributions.\n",
    "\n",
    "        The result is the distribution of sums of values from the\n",
    "        two distributions.\n",
    "\n",
    "        other: Pmf\n",
    "\n",
    "        returns: new Pmf\n",
    "        \"\"\"\n",
    "        pmf = Pmf()\n",
    "        for key1, prob1 in self.items():\n",
    "            for key2, prob2 in other.items():\n",
    "                pmf[key1 + key2] += prob1 * prob2\n",
    "        return pmf\n",
    "\n",
    "    def __hash__(self):\n",
    "        \"\"\"Returns an integer hash value.\"\"\"\n",
    "        return id(self)\n",
    "    \n",
    "    def __eq__(self, other):\n",
    "        return self is other\n",
    "\n",
    "    def render(self):\n",
    "        \"\"\"Returns values and their probabilities, suitable for plotting.\"\"\"\n",
    "        return zip(*sorted(self.items()))\n",
    "    \n",
    "    def sample(self):\n",
    "        keys, vals= zip(*self.items())\n",
    "        return np.random.choice(keys, p=vals)"
   ]
  },
  {
   "cell_type": "code",
   "execution_count": 35,
   "metadata": {
    "collapsed": true
   },
   "outputs": [],
   "source": [
    "def get_num_phonemes(p):\n",
    "    return len(p.replace('@',' ').split(' '))"
   ]
  },
  {
   "cell_type": "code",
   "execution_count": 36,
   "metadata": {
    "collapsed": true
   },
   "outputs": [],
   "source": [
    "def get_global_syll_score(row):\n",
    "    if '@' in row.word:\n",
    "        return row.tedit\n",
    "    if row.pred_num_syll==1:\n",
    "        return row.oedit\n",
    "    else:\n",
    "        return row.tedit"
   ]
  },
  {
   "cell_type": "code",
   "execution_count": 37,
   "metadata": {
    "collapsed": true
   },
   "outputs": [],
   "source": [
    "def get_edit_distances_grapheme(row):\n",
    "    return Levenshtein.distance(row.clipping, row.goldgrapheme), Levenshtein.distance(row.clipping, row.rand), Levenshtein.distance(row.clipping, row.one), Levenshtein.distance(row.clipping, row.two)"
   ]
  },
  {
   "cell_type": "code",
   "execution_count": 38,
   "metadata": {
    "collapsed": true
   },
   "outputs": [],
   "source": [
    "orecs=[]\n",
    "f = open('./data/clippings_analysis.txt')\n",
    "for l in f:\n",
    "    tokens=l.strip().split(' ')\n",
    "    orecs.append((tokens[0], u' '.join(tokens[1:]).strip()))\n",
    "df=pd.DataFrame().from_records(orecs, columns=['clipping','full'])\n",
    "df_clipping_only=pd.read_csv('./data/only_clippings_gold.phonemes', sep='\\t', skiprows=3, header=None, names=['word','phonemes'])\n",
    "df_clipping_only[\"num\"]=[get_num_syllables(ps) for ps in df_clipping_only.phonemes.values] "
   ]
  },
  {
   "cell_type": "code",
   "execution_count": 39,
   "metadata": {
    "collapsed": true
   },
   "outputs": [],
   "source": [
    "df_components_only=pd.read_csv('./data/only_clippings_full_components_gold.phonemes', sep='\\t', skiprows=3, header=None, names=['word','phonemes'])\n",
    "df_components_only[\"num\"]=[get_num_syllables(ps) for ps in df_components_only.phonemes.values] \n",
    "global_pmf=Pmf(Counter({'BACK':305,'FORE':83,'COMPOUND':0}))\n",
    "global_pmf.normalize()\n",
    "df_components_only[\"comp_phonemes_len\"]=df_components_only.phonemes.apply(get_num_phonemes)\n",
    "df_clipping_only[\"clipping_phonemes_len\"]=df_clipping_only.phonemes.apply(get_num_phonemes)\n",
    "syllable_counter_clippings=Counter(df_clipping_only.num.values)\n",
    "syllable_counter_clippings_pmf = Pmf(syllable_counter_clippings)\n",
    "syllable_counter_clippings_pmf.normalize()"
   ]
  },
  {
   "cell_type": "markdown",
   "metadata": {},
   "source": [
    "## Read the outputs of Random, 1-Syllable, 2-Syllable and Gold Oracle"
   ]
  },
  {
   "cell_type": "code",
   "execution_count": 40,
   "metadata": {
    "collapsed": true,
    "scrolled": true
   },
   "outputs": [],
   "source": [
    "gold_clippings=df_clipping_only.word.values\n",
    "gold_graphemes=[line.strip() for line in open('./data/gold_clipping_for_p2g_new.graphemes').readlines()]\n",
    "rand_graphemes=[line.strip() for line in open('./data/rand_clipping_for_p2g_new.graphemes').readlines()]\n",
    "one_syl_graphemes=[line.strip() for line in open('./data/one_syl_clipping_for_p2g_new.graphemes').readlines()]\n",
    "two_syl_graphemes=[line.strip() for line in open('./data/two_syl_clipping_for_p2g_new.graphemes').readlines()]\n",
    "\n",
    "edf_recs=zip(df_components_only.word.values, gold_clippings, gold_graphemes, rand_graphemes, one_syl_graphemes, two_syl_graphemes)\n",
    "edf=pd.DataFrame().from_records(edf_recs, columns=['word','clipping','goldgrapheme','rand','one','two'])\n",
    "edf=edf.astype(unicode)\n",
    "\n",
    "edf[\"gedit\"], edf[\"redit\"], edf[\"oedit\"], edf[\"tedit\"]= zip(*edf.apply(get_edit_distances_grapheme, axis=1))"
   ]
  },
  {
   "cell_type": "code",
   "execution_count": 41,
   "metadata": {},
   "outputs": [],
   "source": [
    "pred_num_syll = [syllable_counter_clippings_pmf.sample() for i in np.arange(0, len(edf))]\n",
    "edf['min']=edf[['oedit','tedit']].min(axis=1)\n",
    "edf[\"pred_num_syll\"]=pred_num_syll\n",
    "edf[\"gscore\"]=edf.apply(get_global_syll_score, axis=1)"
   ]
  },
  {
   "cell_type": "markdown",
   "metadata": {},
   "source": [
    "# Train the Length model (ClipGraph)"
   ]
  },
  {
   "cell_type": "code",
   "execution_count": 42,
   "metadata": {
    "collapsed": true
   },
   "outputs": [],
   "source": [
    "def clip_length(v):\n",
    "    parts = v.split(' ')\n",
    "    if len(parts) > 1:\n",
    "        l=int(gm.predict(len(v))[0])\n",
    "        return parts[0][:(l/2)] + parts[1][:l/2]\n",
    "    else:\n",
    "        ctype=global_pmf.sample()\n",
    "        l=int(gm.predict(len(v))[0])\n",
    "        if ctype == 'BACK':\n",
    "            return v[:l]\n",
    "        elif ctype == 'FORE':\n",
    "            return v[-l:]\n",
    "\n",
    "def get_edit_distance_clip_length(row):\n",
    "    return Levenshtein.distance(row.clipping, row.cpleng)"
   ]
  },
  {
   "cell_type": "code",
   "execution_count": 43,
   "metadata": {
    "collapsed": true
   },
   "outputs": [],
   "source": [
    "mylengthdf=pd.DataFrame().from_records(zip(df_components_only.word.values,df_clipping_only.word, df_components_only.comp_phonemes_len.values, \n",
    "df_clipping_only.clipping_phonemes_len.values, df_clipping_only.num, df_components_only.num.values), columns=['word','clipping','comp_phonemes_len','clipping_phonemes_len', 'num', 'compnum'])\n",
    "mylengthdf[\"wlen\"]=mylengthdf.word.apply(len)"
   ]
  },
  {
   "cell_type": "code",
   "execution_count": 44,
   "metadata": {},
   "outputs": [],
   "source": [
    "from sklearn.cross_validation import train_test_split\n",
    "mylengthdf_train, mylengthdf_test= train_test_split(mylengthdf, train_size=0.7)\n",
    "x=mylengthdf_train[[\"wlen\"]].values\n",
    "y=mylengthdf_train[\"num\"].values"
   ]
  },
  {
   "cell_type": "code",
   "execution_count": 45,
   "metadata": {},
   "outputs": [
    {
     "name": "stdout",
     "output_type": "stream",
     "text": [
      "Convergence after  2  iterations\n"
     ]
    }
   ],
   "source": [
    "x_g=mylengthdf_train.word.apply(len).values\n",
    "y_g=mylengthdf_train.clipping.apply(len).values\n",
    "gm = BayesianRidge(verbose=True, compute_score=True, tol=0.0001)\n",
    "gm.fit(x_g.reshape(-1,1),y_g)\n",
    "edf[\"cpleng\"]=edf.word.apply(clip_length)\n",
    "edf[\"cpeditg\"]=edf.apply(get_edit_distance_clip_length, axis=1)"
   ]
  },
  {
   "cell_type": "markdown",
   "metadata": {},
   "source": [
    "# Plot the evaluation"
   ]
  },
  {
   "cell_type": "code",
   "execution_count": 46,
   "metadata": {
    "collapsed": true
   },
   "outputs": [],
   "source": [
    "edfm=edf[edf.word.isin(mylengthdf_test.word.values)]"
   ]
  },
  {
   "cell_type": "code",
   "execution_count": 47,
   "metadata": {},
   "outputs": [],
   "source": [
    "import itertools\n",
    "gredrecs=zip(itertools.repeat('gedit', len(edfm)), edfm.gedit.values)\n",
    "rredrecs=zip(itertools.repeat('redit', len(edfm)), edfm.redit.values)\n",
    "oredrecs=zip(itertools.repeat('oedit', len(edfm)), edfm.oedit.values)\n",
    "tredrecs=zip(itertools.repeat('tedit', len(edfm)), edfm.tedit.values)\n",
    "credrecs=zip(itertools.repeat('gscore', len(edfm)), edfm.gscore.values)\n",
    "credrecsg=zip(itertools.repeat('cpeditg', len(edfm)), edfm.cpeditg.values)\n",
    "cminrecs=zip(itertools.repeat('cminrecs', len(edfm)), edfm[\"min\"].values)\n",
    "vdf=pd.DataFrame().from_records(gredrecs+rredrecs+oredrecs+tredrecs+credrecs+credrecsg+cminrecs, columns=['model','distance'])"
   ]
  },
  {
   "cell_type": "code",
   "execution_count": 48,
   "metadata": {},
   "outputs": [
    {
     "data": {
      "image/png": "[encoded data removed]",
      "text/plain": [
       "<matplotlib.figure.Figure at 0x7fe3adc5e350>"
      ]
     },
     "metadata": {},
     "output_type": "display_data"
    }
   ],
   "source": [
    "ax=sns.barplot(vdf.model, vdf.distance, order=['redit','oedit','tedit','gscore','cminrecs','cpeditg','gedit'])\n",
    "ax.set_xticklabels(['Naive','ClipPhone-1Syl','ClipPhone-2Syl','ClipPhone','ClipPhone(O)', 'ClipGraph','G2P-Gold'], fontsize=12, rotation=90)\n",
    "ax.set_xlabel('')\n",
    "ax.set_ylabel('Edit Distance', fontsize=12)\n",
    "pl.savefig('./figs/clipping_edit_distance_all.pdf', bbox_inches='tight')"
   ]
  }
 ],
 "metadata": {
  "kernelspec": {
   "display_name": "Python 2",
   "language": "python",
   "name": "python2"
  },
  "language_info": {
   "codemirror_mode": {
    "name": "ipython",
    "version": 2
   },
   "file_extension": ".py",
   "mimetype": "text/x-python",
   "name": "python",
   "nbconvert_exporter": "python",
   "pygments_lexer": "ipython2",
   "version": "2.7.12"
  }
 },
 "nbformat": 4,
 "nbformat_minor": 2
}
